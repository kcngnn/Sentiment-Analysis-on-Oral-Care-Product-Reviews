{
 "cells": [
  {
   "cell_type": "markdown",
   "metadata": {},
   "source": [
    "# Text Mining Project\n"
   ]
  },
  {
   "cell_type": "markdown",
   "metadata": {},
   "source": [
    "### INTRODUCTION \n",
    "Market share growth is expected to be highly influenced by the company’s well generating great insights into customer voice and initiating changes. In order to have a good understanding of customer voice, the team was motivated to perform some text mining techniques on an oral care brand of a pharmaceutical company. We will call this as Brand A within the scope of this notebook. <br/>\n",
    "\n",
    "The study serves two purposes: <br/>\n",
    "- To extract customer insights related to overall brand perception and its product features that receive top attention from customers. <br/>\n",
    "- To visualize customer perceptions about brands across the oral care sector to understand how Brand A is positioned against its competitors. <br/>\n",
    "\n",
    "These two objectives bring the team to the final goal of helping the company to understand how customers communicate about the brand and where perception or performance could be improved."
   ]
  },
  {
   "cell_type": "markdown",
   "metadata": {},
   "source": [
    "### DATA OVERVIEW\n",
    "As part of the project, the team utilized two datasets, BazaarVoice and Brandwatch. The table below summarizes several key information. <br/>\n",
    "\n",
    "|           | BazaarVoice  |  Brandwatch |\n",
    "---|:---:|:---:|\n",
    "**Sources**| reviews on the brand website|social media posts that mention the products (Twitter, Tumbler, etc.)\n",
    "|       |                             |reviews on other vendor platforms (Amazon, Costco, etc.)\n",
    "**Brands** | BrandA | BrandA & 20 competitors\n",
    "**Time Period**|01.2018-06.2020|01.2018-06.2020 for BrandA\n",
    " |       |   |01.2018-04.2020 for others\n",
    "**Data Size**|8,591|241,339\n",
    "**Labelled - Category**| Yes | No\n",
    "**Ratings provided**|Yes|No\n",
    "\n",
    "<br/>\n",
    "Basically, what the team would do is to combine the two datasets before drilling down into how the customers perceive current oral care products. However, there are several differences between the two datasets that are worth noting before they can be combined.<br/>\n",
    "- The team noted that Brandwatch dataset does not have information on BrandA product category and ratings as the BazaarVoice dataset. Therefore, the team would need to find a way to fill out these missing information so that the two datasets can be combined. <br/>\n",
    "- While BazaarVoice dataset is comprised of only product reviews on BrandA website, Brandwatch dataset includes two types of information. Besides product reviews on different vendor websites like Amazon, Walmart, Target, etc., social media posts or comments that mention products under selected oral care brands are also included. This alerts the team that a number of texts is highly likely to not be true product reviews; instead, they can be promotional posts or simply posts that mention products for other purposes like entertaining, etc. Therefore, while assigning sentiment to Brandwatch texts, the team paid attention to assigning “Neutral” voice besides “Negative” and “Positive” to reduce the impact of such non-review texts. <br/>\n",
    "- The time period for BrandA and other brands are different. While data for BrandA ranges from Jan 2018 to Jun 2020, data for competitor brands ends in Apr 2020. The team noted this for the comparison between BrandA and other brands. <br/>\n",
    "<br/>\n",
    "By looking more into the dataset, the team also noted that Brandwatch dataset comes with a lot of noise that needs to be dealt with before analysis. The noise may arise from the fact that the data was pulled from social media and vendor platforms by some certain engines. Below are some sample reviews from the two datasets. <br/>\n",
    "\n",
    "*(branda.com) Please bring it back! It's the only one I like. Finding a replacement will be difficult. <br/>\n",
    "(Amazon) n n Terrible floss, falls apart too easily n n<br/>\n",
    "(Twitter) RT @RisasDental Is your oral health a part of your New Year's resolutions? Here's a list of the best foods for a healthy smile to start off the year.* <br/>\n",
    "\n",
    "As can be from the samples, compared to BazarVoice texts which are customer reviews on BrandA websites with more “proper” language, Brandwatch texts have more noise and requires cleaning, and also, lots of slangs are used in social media posts. Plus, there are lots of duplicates in Brandwatch dataset that are “disguised” by retweet feature and special characters.\n"
   ]
  },
  {
   "cell_type": "markdown",
   "metadata": {},
   "source": [
    "### METHODOLOGY\n",
    "After investigating the data, the team performed necessary steps below to move the project forward. <br/>\n",
    "**Step 1:** Pre-process data <br/>\n",
    "The first step is to clean the data. The team did necessary pre-processing tasks such as removing duplicates, removing promotional content, etc. <br/>\n",
    "**Step 2:** Build models to fill out missing values <br/>\n",
    "To combine two datasets, it was a must to assign sentiment to all Brandwatch texts and assign product category to all texts of BrandA in that dataset. The team built two models accordingly for this purpose. <br/>\n",
    "**Step 3:** Generate insights <br/>\n",
    "After having a complete and clean dataset, the team conducted three analyses on: <br/>\n",
    "-sentiment across BrandA product categories; <br/>\n",
    "-sentiment across brands in the oral care landscape; <br/>\n",
    "-sentiment over top product feature."
   ]
  },
  {
   "cell_type": "markdown",
   "metadata": {},
   "source": [
    "Within this notebook, the analysis results will not be provided. Instead, I will walk you through the first two steps, on **how the team cleaned the data, build models to fill in missing values before combining the two datasets, and how to perform LDA modelling to understand the top discussed product features.**"
   ]
  },
  {
   "cell_type": "code",
   "execution_count": null,
   "metadata": {},
   "outputs": [],
   "source": [
    "# load libraries\n",
    "import pandas as pd\n",
    "import numpy as np\n",
    "from string import punctuation\n",
    "from matplotlib import pyplot as plt\n",
    "import re "
   ]
  },
  {
   "cell_type": "markdown",
   "metadata": {},
   "source": [
    "##### Load BazarVoice dataset"
   ]
  },
  {
   "cell_type": "code",
   "execution_count": 2,
   "metadata": {},
   "outputs": [],
   "source": [
    "# load bazarvoice data\n",
    "bazar = pd.read_csv(\"BazarVoice.csv\", header = 0, engine='python')\n",
    "\n",
    "# reformat date\n",
    "bazar['lastmodificationtime'] = pd.to_datetime(bazar['lastmodificationtime'])\n",
    "\n",
    "# use the \"rating\" column to assign a sentiment. \n",
    "# sentiment is positive if rating is 4 or 5, neutral if 3 and negative otherwise.\n",
    "bazar[\"Sentiment\"] = bazar['rating'].apply(lambda x: 'Negative' if x < 3 else ('Neutral' if x==3 else 'Positive'))"
   ]
  },
  {
   "cell_type": "code",
   "execution_count": 3,
   "metadata": {},
   "outputs": [
    {
     "data": {
      "text/plain": [
       "(8591, 10)"
      ]
     },
     "execution_count": 3,
     "metadata": {},
     "output_type": "execute_result"
    }
   ],
   "source": [
    "bazar.shape"
   ]
  },
  {
   "cell_type": "code",
   "execution_count": null,
   "metadata": {},
   "outputs": [],
   "source": [
    "bazar.head(2)"
   ]
  },
  {
   "cell_type": "markdown",
   "metadata": {},
   "source": [
    "I'm not allowed to share data here. So I just take 2 rows as examples. Product names are hidden in the demonstration.\n",
    "\n",
    "|modificationstatus|lastmodificationtime|title|reviewtext|wordcloudtext|rating|reviewerlocation|productname|categoryname|Sentiment|\n",
    "|---|---|---|---|---|---|---|---|---|---|\n",
    "|APPROVED|2020-06-26|Great product|We bought this product and...|BOUGHT|5|USA|*productname*|Mouthwash...|Positive|\n",
    "|REJECTED|2020-06-27|Burning feeling|I figured out I would weigh in here...|FIGURED|1|Philadelphia|*productname*|Mouthwash|Negative"
   ]
  },
  {
   "cell_type": "markdown",
   "metadata": {},
   "source": [
    "##### Load & clean Brandwatch dataset"
   ]
  },
  {
   "cell_type": "markdown",
   "metadata": {},
   "source": [
    "There are lots of texts in Brandwatch datasets to be duplicated in some ways. These can be divided into two main types. <br/>\n",
    "The first type is texts that are technically the same but disguised by special characters and retweet features. Examples are as below. <br/>\n",
    "*Sometimes when I watched the football match, I ... <br/>\n",
    "**RT @chaddukes** Sometimes when I watched the football match, I ... <br/>*\n",
    "\n",
    "*zuode: she gargled Â my balls like Â they were, Â <br/>\n",
    "zuode: she gargled Â my balls like Â they were, Â **????** <br/>*\n",
    "To deal with those duplicates, the team performed some steps, including removing @ mentions, removing URLs, removing special characters, removing leading and trailing spaces, etc. At this step, the dataset was reduced from 241,000 to 142,000 texts.\n",
    "\n",
    "The second type of noise is that lots of texts seem to be promotional contents, and thus are similar but not 100% the same.<br/>\n",
    "*...The best way to ensure strong dental #health is to take care of your #smile and visit* **Dr. June regularly:** https://t.co/rBfUrzsasadas  <br/>\n",
    "*...The best way to ensure strong dental #health is to take care of your #smile and visit* **our #dentist regularly:** https://t.co/1gmyFas <br/>\n",
    "To remove those texts, the team calculated pairwise cosine similarity and applied a threshold of 0.9 to remove texts that bear high resemblance. The team removed 10,000 texts and got the final Brandwatch dataset of 132,000."
   ]
  },
  {
   "cell_type": "code",
   "execution_count": 5,
   "metadata": {},
   "outputs": [],
   "source": [
    "# load brandwatch\n",
    "bw18 = pd.read_csv(\"Brandwatch - 2018.csv\", header = 0, engine='python')\n",
    "bw19 = pd.read_csv(\"Brandwatch - 2019.csv\", header = 0, engine='python')\n",
    "bw20 = pd.read_csv(\"Brandwatch - 2020.csv\", header = 0, engine='python')\n",
    "brandwatch = pd.concat([bw18,bw19,bw20])\n",
    "brandwatch = brandwatch.drop(columns=['query_name','city','region'])\n",
    "\n",
    "# reformat some columns\n",
    "brandwatch['full_text'] = brandwatch['full_text'].astype(str)\n",
    "brandwatch['date'] = pd.to_datetime(brandwatch['date'])"
   ]
  },
  {
   "cell_type": "code",
   "execution_count": 6,
   "metadata": {},
   "outputs": [
    {
     "data": {
      "text/plain": [
       "(241339, 3)"
      ]
     },
     "execution_count": 6,
     "metadata": {},
     "output_type": "execute_result"
    }
   ],
   "source": [
    "brandwatch.shape"
   ]
  },
  {
   "cell_type": "code",
   "execution_count": null,
   "metadata": {},
   "outputs": [],
   "source": [
    "brandwatch.head(2)"
   ]
  },
  {
   "cell_type": "markdown",
   "metadata": {},
   "source": [
    "\n",
    "\n",
    "\n",
    "|brand|date|full_text|\n",
    "|---|---|---|\n",
    "BrandA|2018-12-30|RT @KevGBKNY I think that?s out your system....\n",
    "BrandB|2018-12-30|I love these strips, but have had trouble find..."
   ]
  },
  {
   "cell_type": "code",
   "execution_count": 8,
   "metadata": {},
   "outputs": [],
   "source": [
    "# CLEAN DATA\n",
    "# remove usernames (any set of characters that start with @)\n",
    "brandwatch[\"review_no@\"] = brandwatch[\"full_text\"].apply(lambda x: re.sub('@[\\w]*',' ',str(x)))\n",
    "# remove url\n",
    "brandwatch[\"review_nourl\"] = brandwatch[\"review_no@\"].apply(lambda x: re.sub(r'http\\S+', '', str(x)))\n",
    "# lowercase 'reviewtext' - prepare for stopwords step\n",
    "brandwatch[\"review_lower\"] = brandwatch[\"review_nourl\"].str.lower()\n",
    "# remove 'rt'\n",
    "brandwatch[\"review_nort\"] = brandwatch[\"review_lower\"].apply(lambda x: re.sub('rt',' ',str(x)))\n",
    "# remove all special characters except for letters\n",
    "brandwatch[\"review_letter\"] = brandwatch[\"review_nort\"].apply(lambda x: re.sub('[^a-zA-Z]',' ',x))\n",
    "# remove leading & trailing spaces\n",
    "brandwatch[\"reviewtext\"] = brandwatch[\"review_letter\"].apply(lambda x: x.strip())"
   ]
  },
  {
   "cell_type": "code",
   "execution_count": 9,
   "metadata": {},
   "outputs": [],
   "source": [
    "# sort by date\n",
    "brandwatch = brandwatch.sort_values('date')\n",
    "# remove duplicates and keep the first text in case of duplicates\n",
    "brandwatch=brandwatch.drop_duplicates(subset='reviewtext')\n",
    "# part of analysis will be performed following review date; thus, it's important to keep the first one"
   ]
  },
  {
   "cell_type": "code",
   "execution_count": 10,
   "metadata": {},
   "outputs": [],
   "source": [
    "# keep necessary columns only\n",
    "brandwatch = brandwatch[['brand','date','reviewtext']]"
   ]
  },
  {
   "cell_type": "code",
   "execution_count": 11,
   "metadata": {},
   "outputs": [
    {
     "name": "stderr",
     "output_type": "stream",
     "text": [
      "[nltk_data] Downloading package stopwords to\n",
      "[nltk_data]     C:\\Users\\ntkcu\\AppData\\Roaming\\nltk_data...\n",
      "[nltk_data]   Package stopwords is already up-to-date!\n"
     ]
    }
   ],
   "source": [
    "import nltk # https://www.nltk.org/ ; nltk helps with tokenization, stopwords dictionary, lemmatization\n",
    "from nltk.corpus import stopwords\n",
    "\n",
    "# remove stop words - this step prepares for cosine similarity calculation\n",
    "# download the stopwords dictionary\n",
    "nltk.download('stopwords')\n",
    "\n",
    "# save the list of stopwords in stop_words\n",
    "sw = stopwords.words('english')\n",
    "sw\n",
    "\n",
    "# add extra words to the stopwords dictionary #after checking the list of stopwords\n",
    "new_stopwords = ['guys','could', 'can t',\"can't\",'dont',\n",
    "                 'tbh','b','c','e','f','g','h','j','k','l','n','p','q','r','u','v','w','x','z','da','lol'\n",
    "                ] #to be added\n",
    "sw.extend(new_stopwords)\n",
    "\n",
    "# remove the words that exist in the stopwords dictionary from texts\n",
    "brandwatch[\"reviewtext_nosw\"] = brandwatch[\"reviewtext\"].apply(lambda words: ' '.join(word.lower() for word in words.split() if word not in sw))"
   ]
  },
  {
   "cell_type": "code",
   "execution_count": 12,
   "metadata": {},
   "outputs": [],
   "source": [
    "# replace empty strings with NAs - a number of strings are empty after stopwords are removed\n",
    "brandwatch['reviewtext_nosw'].replace('', np.nan, inplace=True)\n",
    "# drop null values after removing stop words\n",
    "brandwatch.dropna(subset=['reviewtext_nosw'], inplace=True)"
   ]
  },
  {
   "cell_type": "code",
   "execution_count": 13,
   "metadata": {},
   "outputs": [],
   "source": [
    "# reset index\n",
    "brandwatch=brandwatch.reset_index(drop=True)"
   ]
  },
  {
   "cell_type": "code",
   "execution_count": null,
   "metadata": {},
   "outputs": [],
   "source": [
    "print(brandwatch.shape)\n",
    "brandwatch.head(2)"
   ]
  },
  {
   "cell_type": "markdown",
   "metadata": {},
   "source": [
    "|brand|date|reviewtext|reviewtext_nosw\n",
    "|---|---|---|---|\n",
    "BrandA|2018-01-01|read this a icle about a woman who cheats...|read icle woman cheats man...|\n",
    "BrandA|2018-01-01|tide pod candy is so what s trendy for...|tide pod candy trendy clorox...|"
   ]
  },
  {
   "cell_type": "markdown",
   "metadata": {},
   "source": [
    "##### Calculate cosine similarity among texts"
   ]
  },
  {
   "cell_type": "code",
   "execution_count": 17,
   "metadata": {},
   "outputs": [],
   "source": [
    "# cosine similarity\n",
    "df=pd.DataFrame(columns=['X','Y','cosine'])\n",
    "list_x = []\n",
    "list_y = []\n",
    "list_cos = []"
   ]
  },
  {
   "cell_type": "code",
   "execution_count": 18,
   "metadata": {},
   "outputs": [],
   "source": [
    "# sort dataset by brand - review_nosw - date for the similarity test\n",
    "# reasons: sort by brand to just compare texts in the same brand\n",
    "# sort by review_nosw cos' similar texts will be close to each other and usually starts with the same word\n",
    "# sort by date so that the oldest one is kept to serve the purpose of review date analysis\n",
    "brandwatch=brandwatch.sort_values(by=['brand','reviewtext_nosw','date'])\n",
    "brandwatch=brandwatch.reset_index(drop=True)"
   ]
  },
  {
   "cell_type": "markdown",
   "metadata": {},
   "source": [
    "*Cosine similarity code source:* [Source](https://www.geeksforgeeks.org/python-measure-similarity-between-two-sentences-using-cosine-similarity/)"
   ]
  },
  {
   "cell_type": "code",
   "execution_count": 19,
   "metadata": {},
   "outputs": [],
   "source": [
    "from nltk.tokenize import word_tokenize \n",
    "\n",
    "# calculate cosine similiarity and list indexes of texts with high similiarity\n",
    "threshold=brandwatch.index[-1]\n",
    "\n",
    "for i in brandwatch.index:\n",
    "    low = i+1\n",
    "    high = i+16 # about 15 similar texts max - scanning the dataset to check \n",
    "                # no need to search for the whole dataset\n",
    "    for j in range(low,high):\n",
    "        if j < threshold: # set a limit to avoid range out of index\n",
    "            if brandwatch.loc[i,'brand']==brandwatch.loc[j,'brand']:\n",
    "                if j not in list_y: # no need to compare with the one that is already known to be removed         \n",
    "                    X = brandwatch.loc[i,'reviewtext_nosw'].lower()\n",
    "                    Y = brandwatch.loc[j,'reviewtext_nosw'].lower()\n",
    "                    # tokenization \n",
    "                    X_list = word_tokenize(X)  \n",
    "                    Y_list = word_tokenize(Y) \n",
    "        \n",
    "                    l1 =[];l2 =[] \n",
    "    \n",
    "                    # stop words from the string have been removed from previous steps\n",
    "                    \n",
    "                    X_set = set(X_list)\n",
    "                    Y_set = set(Y_list)\n",
    "    \n",
    "                    # form a set containing keywords of both strings  \n",
    "                    rvector = X_set.union(Y_set)  \n",
    "                    for w in rvector: \n",
    "                        if w in X_set: l1.append(1) # create a vector \n",
    "                        else: l1.append(0) \n",
    "                        if w in Y_set: l2.append(1) \n",
    "                        else: l2.append(0) \n",
    "                    c = 0  \n",
    "    \n",
    "                    # cosine formula  \n",
    "                    for u in range(len(rvector)): \n",
    "                            c+= l1[u]*l2[u] \n",
    "                    denominator = float((sum(l1)*sum(l2))**0.5)\n",
    "                    if denominator != 0:\n",
    "                        cosine = c / denominator \n",
    "    \n",
    "                    if cosine >=0.9:\n",
    "                        list_x.append(i)\n",
    "                        list_y.append(j)\n",
    "                        list_cos.append(cosine)\n",
    "                    \n",
    "df['X'],df['Y'],df['cosine'] = list_x,list_y,list_cos"
   ]
  },
  {
   "cell_type": "code",
   "execution_count": 20,
   "metadata": {},
   "outputs": [
    {
     "data": {
      "text/plain": [
       "(9782, 3)"
      ]
     },
     "execution_count": 20,
     "metadata": {},
     "output_type": "execute_result"
    }
   ],
   "source": [
    "df.shape"
   ]
  },
  {
   "cell_type": "code",
   "execution_count": 21,
   "metadata": {},
   "outputs": [
    {
     "data": {
      "text/html": [
       "<div>\n",
       "<style scoped>\n",
       "    .dataframe tbody tr th:only-of-type {\n",
       "        vertical-align: middle;\n",
       "    }\n",
       "\n",
       "    .dataframe tbody tr th {\n",
       "        vertical-align: top;\n",
       "    }\n",
       "\n",
       "    .dataframe thead th {\n",
       "        text-align: right;\n",
       "    }\n",
       "</style>\n",
       "<table border=\"1\" class=\"dataframe\">\n",
       "  <thead>\n",
       "    <tr style=\"text-align: right;\">\n",
       "      <th></th>\n",
       "      <th>X</th>\n",
       "      <th>Y</th>\n",
       "      <th>cosine</th>\n",
       "    </tr>\n",
       "  </thead>\n",
       "  <tbody>\n",
       "    <tr>\n",
       "      <th>0</th>\n",
       "      <td>29</td>\n",
       "      <td>30</td>\n",
       "      <td>0.942809</td>\n",
       "    </tr>\n",
       "    <tr>\n",
       "      <th>1</th>\n",
       "      <td>45</td>\n",
       "      <td>46</td>\n",
       "      <td>1.000000</td>\n",
       "    </tr>\n",
       "    <tr>\n",
       "      <th>2</th>\n",
       "      <td>76</td>\n",
       "      <td>77</td>\n",
       "      <td>1.000000</td>\n",
       "    </tr>\n",
       "    <tr>\n",
       "      <th>3</th>\n",
       "      <td>76</td>\n",
       "      <td>78</td>\n",
       "      <td>1.000000</td>\n",
       "    </tr>\n",
       "    <tr>\n",
       "      <th>4</th>\n",
       "      <td>76</td>\n",
       "      <td>79</td>\n",
       "      <td>1.000000</td>\n",
       "    </tr>\n",
       "  </tbody>\n",
       "</table>\n",
       "</div>"
      ],
      "text/plain": [
       "    X   Y    cosine\n",
       "0  29  30  0.942809\n",
       "1  45  46  1.000000\n",
       "2  76  77  1.000000\n",
       "3  76  78  1.000000\n",
       "4  76  79  1.000000"
      ]
     },
     "execution_count": 21,
     "metadata": {},
     "output_type": "execute_result"
    }
   ],
   "source": [
    "df.head()"
   ]
  },
  {
   "cell_type": "code",
   "execution_count": 24,
   "metadata": {},
   "outputs": [],
   "source": [
    "# remove rows that have high similarities, just keep first\n",
    "brandwatch = brandwatch.loc[~brandwatch.index.isin(df['Y'])]"
   ]
  },
  {
   "cell_type": "code",
   "execution_count": 25,
   "metadata": {},
   "outputs": [
    {
     "data": {
      "text/plain": [
       "(132273, 4)"
      ]
     },
     "execution_count": 25,
     "metadata": {},
     "output_type": "execute_result"
    }
   ],
   "source": [
    "brandwatch.shape"
   ]
  },
  {
   "cell_type": "code",
   "execution_count": null,
   "metadata": {},
   "outputs": [],
   "source": [
    "brandwatch['brand'].value_counts()"
   ]
  },
  {
   "cell_type": "markdown",
   "metadata": {},
   "source": [
    "|brand|count|\n",
    "|---|---:|\n",
    "BrandA | 50299|\n",
    "BrandB | 31449|\n",
    "BrandC | 14950|\n",
    "BrandD | 10352|\n",
    "BrandE |  9337|\n",
    "BrandF |  4650|\n",
    "....\n",
    "BrandN |   42|\n",
    "BrandO |   15|\n",
    "\n",
    "There is an unbalanced status in the number of reviews among brands. It should be noted for the sentiment analysis across brands in the oral care landscape."
   ]
  },
  {
   "cell_type": "code",
   "execution_count": 153,
   "metadata": {},
   "outputs": [],
   "source": [
    "#brandwatch.to_csv(\"brandwatch.csv\")"
   ]
  },
  {
   "cell_type": "markdown",
   "metadata": {},
   "source": [
    "### Predict Sentiment\n",
    "The purpose is to assign sentiment to texts in Brandwatch dataset. <br/>\n",
    "The team tried several different models to assign sentiment to Brandwatch texts. Several models gave good resuls on train and test data using BazarVoice dataset but predicted poorly on Brandwatch dataset when the team randomly\n",
    "selected 300 texts and manually checked sentiment accuracy. The team finalized the sentiment assignment using Vader with accuracy level of 86%. Three classes of sentiment, including Negative, Neutral, and Positive were\n",
    "assigned. A confusion matrix was generated using the result of 300 texts that were manually checked."
   ]
  },
  {
   "cell_type": "code",
   "execution_count": 79,
   "metadata": {},
   "outputs": [],
   "source": [
    "#pip install vaderSentiment\n",
    "from vaderSentiment.vaderSentiment import SentimentIntensityAnalyzer\n",
    "analyzer = SentimentIntensityAnalyzer()"
   ]
  },
  {
   "cell_type": "code",
   "execution_count": null,
   "metadata": {},
   "outputs": [],
   "source": [
    "brandwatch['review_neg'] = [analyzer.polarity_scores(x)['neg'] for x in brandwatch['reviewtext']]\n",
    "brandwatch['review_pos'] = [analyzer.polarity_scores(x)['pos'] for x in brandwatch['reviewtext']]\n",
    "brandwatch['review_neu'] = [analyzer.polarity_scores(x)['neu'] for x in brandwatch['reviewtext']]\n",
    "brandwatch.head(2)"
   ]
  },
  {
   "cell_type": "markdown",
   "metadata": {},
   "source": [
    "|brand|date|reviewtext|reviewtext_nosw|review_neg|review_pos|review_neu|\n",
    "|---|---|---|---|---:|---:|---:|\n",
    "BrandX|2020-01-12|abc and cnn s repo ing was definitely skewed...|abc cnn repo ing skewed...|0.083|0.106|0.810\n",
    "BrandX|2019-07-25|the ability to solve a problem act on it...|ability solve problem act rinse...|0.182|0.277|0.541"
   ]
  },
  {
   "cell_type": "code",
   "execution_count": 86,
   "metadata": {},
   "outputs": [
    {
     "data": {
      "text/plain": [
       "review_neu    126970\n",
       "review_pos      4485\n",
       "review_neg       818\n",
       "Name: Max, dtype: int64"
      ]
     },
     "execution_count": 86,
     "metadata": {},
     "output_type": "execute_result"
    }
   ],
   "source": [
    "# assign the sentiment with the one with highest score\n",
    "brandwatch['Max']=brandwatch[['review_neg','review_pos','review_neu']].idxmax(axis=1)\n",
    "brandwatch['Max'].value_counts()"
   ]
  },
  {
   "cell_type": "code",
   "execution_count": 110,
   "metadata": {},
   "outputs": [
    {
     "data": {
      "text/plain": [
       "Neutral     126970\n",
       "Positive      4485\n",
       "Negative       818\n",
       "Name: sentiment, dtype: int64"
      ]
     },
     "execution_count": 110,
     "metadata": {},
     "output_type": "execute_result"
    }
   ],
   "source": [
    "brandwatch['sentiment'] = brandwatch['Max'].apply(lambda x: 'Negative' if x=='review_neg' else ('Neutral' if x=='review_neu' else 'Positive'))\n",
    "brandwatch['sentiment'].value_counts() # recheck if the assigment works"
   ]
  },
  {
   "cell_type": "code",
   "execution_count": null,
   "metadata": {},
   "outputs": [],
   "source": [
    "brandwatch.head(2)"
   ]
  },
  {
   "cell_type": "markdown",
   "metadata": {},
   "source": [
    "|brand|date|reviewtext|reviewtext_nosw|review_neg|review_pos|review_neu|Max|sentiment|\n",
    "|---|---|---|---|---:|---:|---:|:---:|:---:|\n",
    "BrandX|2020-01-12|abc and cnn s repo ing was definitely skewed...|abc cnn repo ing skewed...|0.083|0.106|0.810|review_neu|Neutral|\n",
    "BrandX|2019-07-25|the ability to solve a problem act on it...|ability solve problem act rinse...|0.182|0.277|0.541|review_neu|Neutral"
   ]
  },
  {
   "cell_type": "code",
   "execution_count": 2,
   "metadata": {},
   "outputs": [],
   "source": [
    "# randomly select 300 tests, 100 for each predicted class - to test accuracy\n",
    "neutral = brandwatch.loc[brandwatch['sentiment']=='Neutral']\n",
    "negative = brandwatch.loc[brandwatch['sentiment']=='Negative']\n",
    "positive = brandwatch.loc[brandwatch['sentiment']=='Positive']"
   ]
  },
  {
   "cell_type": "code",
   "execution_count": 4,
   "metadata": {},
   "outputs": [],
   "source": [
    "pos=positive.sample(100)\n",
    "neg=negative.sample(100)\n",
    "neu=neutral.sample(100)"
   ]
  },
  {
   "cell_type": "code",
   "execution_count": null,
   "metadata": {},
   "outputs": [],
   "source": [
    "sample = pd.concat([pos,neg,neu]).reset_index(drop=True)"
   ]
  },
  {
   "cell_type": "code",
   "execution_count": null,
   "metadata": {},
   "outputs": [],
   "source": [
    "# print to file\n",
    "sample.to_csv(\"sentiment_test.csv\")"
   ]
  },
  {
   "cell_type": "code",
   "execution_count": null,
   "metadata": {},
   "outputs": [],
   "source": [
    "# manually assign sentiment for 300 random texts, 100 texts for each class prediction\n",
    "# add the file back for confusion matrix\n",
    "result = pd.read_csv(\"sentiment_test.csv\")\n",
    "result.head(2)"
   ]
  },
  {
   "cell_type": "markdown",
   "metadata": {},
   "source": [
    "|brand|date|reviewtext|reviewtext_nosw|review_neg|review_pos|review_neu|Max|sentiment|manual\n",
    "|---|---|---|---|---:|---:|---:|:---:|:---:|:---:|\n",
    "BrandX|2020-01-12|abc and cnn s repo ing was definitely skewed...|abc cnn repo ing skewed...|0.083|0.106|0.810|review_neu|Neutral|Neutral\n",
    "BrandX|2019-07-25|the ability to solve a problem act on it...|ability solve problem act rinse...|0.182|0.277|0.541|review_neu|Neutral|Neutral"
   ]
  },
  {
   "cell_type": "code",
   "execution_count": 12,
   "metadata": {},
   "outputs": [
    {
     "name": "stdout",
     "output_type": "stream",
     "text": [
      "Confusion Matrix:\n",
      "[[88  8  4]\n",
      " [10 84  6]\n",
      " [ 3 11 86]]\n",
      "Accuracy: 0.86\n"
     ]
    }
   ],
   "source": [
    "from sklearn import metrics\n",
    "from sklearn.metrics import confusion_matrix\n",
    "\n",
    "# create confusion matrix\n",
    "print(\"Confusion Matrix:\")\n",
    "conf_mat = confusion_matrix(y_true=result['sentiment'], y_pred=result['manual'])\n",
    "print(conf_mat)\n",
    "\n",
    "print(\"Accuracy:\", metrics.accuracy_score(result['sentiment'], result['manual']))"
   ]
  },
  {
   "cell_type": "markdown",
   "metadata": {},
   "source": [
    "The confusion matrix showed that Vader tended to predict more Neutral than Negative and Positive, which the team believed to be fair concerning the nature of Brandwatch dataset. Regarding BazarVoice, the team assigned reviews with 1-2 stars as Negative, 3 as Neutral and 4-5 as Positive. <br/>\n",
    "By combining BazarVoice and Brandwatch, the team got a sentiment summary as below:<br/>\n",
    "\n",
    "|sentiment|count|\n",
    "|---|---:|\n",
    "Negative|1,806\n",
    "Neutral|127,488\n",
    "Positive|10,866\n",
    "**Total**|**140,160**"
   ]
  },
  {
   "cell_type": "markdown",
   "metadata": {},
   "source": [
    "### Predict categories"
   ]
  },
  {
   "cell_type": "markdown",
   "metadata": {},
   "source": [
    "To assign product category to BrandA texts in Brandwatch dataset, the team build a predictive model using word embeddings, training and testing on BazarVoice dataset by 70-30. The team performed modelling on 9 out of 13 categories and eliminated categories with too few samples."
   ]
  },
  {
   "cell_type": "code",
   "execution_count": 27,
   "metadata": {},
   "outputs": [
    {
     "name": "stdout",
     "output_type": "stream",
     "text": [
      "(140864, 1)\n"
     ]
    },
    {
     "data": {
      "text/html": [
       "<div>\n",
       "<style scoped>\n",
       "    .dataframe tbody tr th:only-of-type {\n",
       "        vertical-align: middle;\n",
       "    }\n",
       "\n",
       "    .dataframe tbody tr th {\n",
       "        vertical-align: top;\n",
       "    }\n",
       "\n",
       "    .dataframe thead th {\n",
       "        text-align: right;\n",
       "    }\n",
       "</style>\n",
       "<table border=\"1\" class=\"dataframe\">\n",
       "  <thead>\n",
       "    <tr style=\"text-align: right;\">\n",
       "      <th></th>\n",
       "      <th>review</th>\n",
       "    </tr>\n",
       "  </thead>\n",
       "  <tbody>\n",
       "    <tr>\n",
       "      <th>0</th>\n",
       "      <td>We bought this product and absolutely love it!...</td>\n",
       "    </tr>\n",
       "    <tr>\n",
       "      <th>1</th>\n",
       "      <td>I figured I would weigh in here regarding the ...</td>\n",
       "    </tr>\n",
       "  </tbody>\n",
       "</table>\n",
       "</div>"
      ],
      "text/plain": [
       "                                              review\n",
       "0  We bought this product and absolutely love it!...\n",
       "1  I figured I would weigh in here regarding the ..."
      ]
     },
     "execution_count": 27,
     "metadata": {},
     "output_type": "execute_result"
    }
   ],
   "source": [
    "# Combine texts from two datasets to create token list\n",
    "bazar_list = bazar['reviewtext'].tolist()\n",
    "bw_list = brandwatch['reviewtext'].tolist()\n",
    "reviews = bazar_list + bw_list\n",
    "df_reviews = pd.DataFrame({'review': reviews})\n",
    "print(df_reviews.shape)\n",
    "df_reviews.head(2)"
   ]
  },
  {
   "cell_type": "code",
   "execution_count": 28,
   "metadata": {},
   "outputs": [
    {
     "name": "stdout",
     "output_type": "stream",
     "text": [
      "94821\n"
     ]
    },
    {
     "data": {
      "text/plain": [
       "140864"
      ]
     },
     "execution_count": 28,
     "metadata": {},
     "output_type": "execute_result"
    }
   ],
   "source": [
    "import tensorflow\n",
    "import keras\n",
    "from keras.preprocessing.text import Tokenizer\n",
    "\n",
    "# create word index\n",
    "tokenizer = Tokenizer() # Tokenizer(num_words = 5000) \n",
    "tokenizer.fit_on_texts(df_reviews[\"review\"])\n",
    "print(len(tokenizer.word_index))\n",
    "tokenizer.document_count"
   ]
  },
  {
   "cell_type": "code",
   "execution_count": null,
   "metadata": {},
   "outputs": [],
   "source": [
    "#tokenizer.word_index"
   ]
  },
  {
   "cell_type": "code",
   "execution_count": null,
   "metadata": {},
   "outputs": [],
   "source": [
    "# count how many times each product category shows up\n",
    "bazar['categoryname'].value_counts()"
   ]
  },
  {
   "cell_type": "markdown",
   "metadata": {},
   "source": [
    "|category|count|\n",
    "|---|---:|\n",
    "Category 01|3727\n",
    "Category 02|1069\n",
    "Category 03|897\n",
    "Category 04|749\n",
    "Category 05|712\n",
    "Category 06|626\n",
    "Category 07|343\n",
    "Category 08|246\n",
    "Category 09|120\n",
    "Category 10|40\n",
    "Category 11|34\n",
    "Category 12|26\n",
    "Category 13|2"
   ]
  },
  {
   "cell_type": "code",
   "execution_count": null,
   "metadata": {
    "scrolled": true
   },
   "outputs": [],
   "source": [
    "# keep only the instances that have categories with at least 40 instances\n",
    "bazar_2 = bazar.groupby('categoryname').filter(lambda x : len(x) > 40) \n",
    "bazar_2['categoryname'].value_counts()"
   ]
  },
  {
   "cell_type": "code",
   "execution_count": 51,
   "metadata": {},
   "outputs": [
    {
     "name": "stdout",
     "output_type": "stream",
     "text": [
      "Shape of label tensor: (8489, 9)\n"
     ]
    }
   ],
   "source": [
    "# Convert categorical labels to numbers\n",
    "Y_cat_df = pd.get_dummies(bazar_2['categoryname'])\n",
    "Y_cat = Y_cat_df.values\n",
    "print('Shape of label tensor:', Y_cat.shape)"
   ]
  },
  {
   "cell_type": "code",
   "execution_count": 52,
   "metadata": {},
   "outputs": [
    {
     "name": "stdout",
     "output_type": "stream",
     "text": [
      "[64, 246, 14, 72, 3, 687, 105, 6, 6, 1875, 443, 3, 437, 20, 44, 143, 1138]\n",
      "We bought this product and absolutely love it! It doesn't burn and leave your mouth taste nasty.\n"
     ]
    }
   ],
   "source": [
    "# create independent var\n",
    "X_cat = tokenizer.texts_to_sequences(bazar_2[\"reviewtext\"])\n",
    "print(X_cat[0]) # print the first sequence of word indices\n",
    "print(bazar_2[\"reviewtext\"][0]) "
   ]
  },
  {
   "cell_type": "code",
   "execution_count": 53,
   "metadata": {},
   "outputs": [
    {
     "name": "stdout",
     "output_type": "stream",
     "text": [
      "Shape of data tensor: (8489, 110)\n"
     ]
    }
   ],
   "source": [
    "# Truncate and pad\n",
    "from keras.preprocessing.sequence import pad_sequences\n",
    "\n",
    "np.sum(num_tokens <= 110) / len(num_tokens) # 96% of the documents have at most 110 tokens\n",
    "\n",
    "maximum_tokens = 110\n",
    "X_cat = pad_sequences(X_cat, maxlen=maximum_tokens)\n",
    "print('Shape of data tensor:', X_cat.shape)"
   ]
  },
  {
   "cell_type": "code",
   "execution_count": 54,
   "metadata": {},
   "outputs": [
    {
     "name": "stdout",
     "output_type": "stream",
     "text": [
      "(5942, 110) (5942, 9)\n",
      "(2547, 110) (2547, 9)\n"
     ]
    }
   ],
   "source": [
    "# Split train-test\n",
    "from sklearn.model_selection import train_test_split  \n",
    "\n",
    "x_train_cat, x_test_cat, y_train_cat, y_test_cat = train_test_split(X_cat, Y_cat, test_size=0.30, random_state=123)\n",
    "print(x_train_cat.shape,y_train_cat.shape)\n",
    "print(x_test_cat.shape,y_test_cat.shape)"
   ]
  },
  {
   "cell_type": "markdown",
   "metadata": {},
   "source": [
    "*Code Ref:* [First](https://realpython.com/python-keras-text-classification/?fbclid=IwAR2c6b8oBdNsJ6pMUlzW0pkvokJs_9BXMc743t3643_jxjACsZz141MrLdQ) [Second](https://towardsdatascience.com/multi-class-text-classification-with-lstm-1590bee1bd17) <br/>\n",
    "By using Glove, accuracy increased from around 73% to 81% for test set; overfitting issue was fixed."
   ]
  },
  {
   "cell_type": "code",
   "execution_count": 55,
   "metadata": {},
   "outputs": [],
   "source": [
    "def create_embedding_matrix(filepath, word_index, embedding_dim):\n",
    "    vocab_size = len(word_index) + 1  # Adding again 1 because of reserved 0 index\n",
    "    embedding_matrix = np.zeros((vocab_size, embedding_dim))\n",
    "\n",
    "    with open(filepath,encoding=\"utf8\") as f:\n",
    "        for line in f:\n",
    "            word, *vector = line.split()\n",
    "            if word in word_index:\n",
    "                idx = word_index[word] \n",
    "                embedding_matrix[idx] = np.array(\n",
    "                    vector, dtype=np.float32)[:embedding_dim]\n",
    "\n",
    "    return embedding_matrix"
   ]
  },
  {
   "cell_type": "code",
   "execution_count": 56,
   "metadata": {},
   "outputs": [],
   "source": [
    "embedding_dim = 32\n",
    "embedding_matrix = create_embedding_matrix(\n",
    "     'glove.6B.50d.txt',tokenizer.word_index, embedding_dim)"
   ]
  },
  {
   "cell_type": "code",
   "execution_count": 57,
   "metadata": {},
   "outputs": [
    {
     "data": {
      "text/plain": [
       "0.5974246482883719"
      ]
     },
     "execution_count": 57,
     "metadata": {},
     "output_type": "execute_result"
    }
   ],
   "source": [
    "nonzero_elements = np.count_nonzero(np.count_nonzero(embedding_matrix, axis=1))\n",
    "num_words =  len(tokenizer.word_index) + 1\n",
    "nonzero_elements / num_words"
   ]
  },
  {
   "cell_type": "code",
   "execution_count": 58,
   "metadata": {},
   "outputs": [
    {
     "name": "stdout",
     "output_type": "stream",
     "text": [
      "Epoch 1/20\n",
      "168/168 [==============================] - ETA: 0s - loss: 1.7118 - accuracy: 0.4404\n",
      "Epoch 00001: val_accuracy improved from -inf to 0.56303, saving model to best_model_cat.h5\n",
      "168/168 [==============================] - 28s 166ms/step - loss: 1.7118 - accuracy: 0.4404 - val_loss: 1.4191 - val_accuracy: 0.5630\n",
      "Epoch 2/20\n",
      "168/168 [==============================] - ETA: 0s - loss: 1.3257 - accuracy: 0.5656\n",
      "Epoch 00002: val_accuracy improved from 0.56303 to 0.62521, saving model to best_model_cat.h5\n",
      "168/168 [==============================] - 28s 166ms/step - loss: 1.3257 - accuracy: 0.5656 - val_loss: 1.2284 - val_accuracy: 0.6252\n",
      "Epoch 3/20\n",
      "168/168 [==============================] - ETA: 0s - loss: 1.1280 - accuracy: 0.6325\n",
      "Epoch 00003: val_accuracy improved from 0.62521 to 0.67731, saving model to best_model_cat.h5\n",
      "168/168 [==============================] - 29s 173ms/step - loss: 1.1280 - accuracy: 0.6325 - val_loss: 1.0152 - val_accuracy: 0.6773\n",
      "Epoch 4/20\n",
      "168/168 [==============================] - ETA: 0s - loss: 0.9897 - accuracy: 0.6823\n",
      "Epoch 00004: val_accuracy improved from 0.67731 to 0.69580, saving model to best_model_cat.h5\n",
      "168/168 [==============================] - 29s 172ms/step - loss: 0.9897 - accuracy: 0.6823 - val_loss: 0.9211 - val_accuracy: 0.6958\n",
      "Epoch 5/20\n",
      "168/168 [==============================] - ETA: 0s - loss: 0.8872 - accuracy: 0.7116\n",
      "Epoch 00005: val_accuracy improved from 0.69580 to 0.74790, saving model to best_model_cat.h5\n",
      "168/168 [==============================] - 29s 175ms/step - loss: 0.8872 - accuracy: 0.7116 - val_loss: 0.8258 - val_accuracy: 0.7479\n",
      "Epoch 6/20\n",
      "168/168 [==============================] - ETA: 0s - loss: 0.7948 - accuracy: 0.7400\n",
      "Epoch 00006: val_accuracy did not improve from 0.74790\n",
      "168/168 [==============================] - 32s 189ms/step - loss: 0.7948 - accuracy: 0.7400 - val_loss: 0.7890 - val_accuracy: 0.7378\n",
      "Epoch 7/20\n",
      "168/168 [==============================] - ETA: 0s - loss: 0.7341 - accuracy: 0.7522\n",
      "Epoch 00007: val_accuracy improved from 0.74790 to 0.76471, saving model to best_model_cat.h5\n",
      "168/168 [==============================] - 27s 162ms/step - loss: 0.7341 - accuracy: 0.7522 - val_loss: 0.7421 - val_accuracy: 0.7647\n",
      "Epoch 8/20\n",
      "168/168 [==============================] - ETA: 0s - loss: 0.6896 - accuracy: 0.7707\n",
      "Epoch 00008: val_accuracy improved from 0.76471 to 0.77815, saving model to best_model_cat.h5\n",
      "168/168 [==============================] - 28s 165ms/step - loss: 0.6896 - accuracy: 0.7707 - val_loss: 0.7219 - val_accuracy: 0.7782\n",
      "Epoch 9/20\n",
      "168/168 [==============================] - ETA: 0s - loss: 0.6555 - accuracy: 0.7814 ETA: 2s\n",
      "Epoch 00009: val_accuracy improved from 0.77815 to 0.78319, saving model to best_model_cat.h5\n",
      "168/168 [==============================] - 29s 170ms/step - loss: 0.6555 - accuracy: 0.7814 - val_loss: 0.6822 - val_accuracy: 0.7832\n",
      "Epoch 10/20\n",
      "168/168 [==============================] - ETA: 0s - loss: 0.6177 - accuracy: 0.7967\n",
      "Epoch 00010: val_accuracy did not improve from 0.78319\n",
      "168/168 [==============================] - 30s 177ms/step - loss: 0.6177 - accuracy: 0.7967 - val_loss: 0.6784 - val_accuracy: 0.7798\n",
      "Epoch 11/20\n",
      "168/168 [==============================] - ETA: 0s - loss: 0.5827 - accuracy: 0.8029\n",
      "Epoch 00011: val_accuracy improved from 0.78319 to 0.78992, saving model to best_model_cat.h5\n",
      "168/168 [==============================] - 29s 175ms/step - loss: 0.5827 - accuracy: 0.8029 - val_loss: 0.6987 - val_accuracy: 0.7899\n",
      "Epoch 12/20\n",
      "168/168 [==============================] - ETA: 0s - loss: 0.5572 - accuracy: 0.8122\n",
      "Epoch 00012: val_accuracy did not improve from 0.78992\n",
      "168/168 [==============================] - 32s 191ms/step - loss: 0.5572 - accuracy: 0.8122 - val_loss: 0.6710 - val_accuracy: 0.7866\n",
      "Epoch 13/20\n",
      "168/168 [==============================] - ETA: 0s - loss: 0.5365 - accuracy: 0.8171\n",
      "Epoch 00013: val_accuracy did not improve from 0.78992\n",
      "168/168 [==============================] - 31s 186ms/step - loss: 0.5365 - accuracy: 0.8171 - val_loss: 0.6691 - val_accuracy: 0.7866\n",
      "Epoch 14/20\n",
      "168/168 [==============================] - ETA: 0s - loss: 0.5204 - accuracy: 0.8259\n",
      "Epoch 00014: val_accuracy improved from 0.78992 to 0.80336, saving model to best_model_cat.h5\n",
      "168/168 [==============================] - 30s 176ms/step - loss: 0.5204 - accuracy: 0.8259 - val_loss: 0.6532 - val_accuracy: 0.8034\n",
      "Epoch 15/20\n",
      "168/168 [==============================] - ETA: 0s - loss: 0.4988 - accuracy: 0.8324\n",
      "Epoch 00015: val_accuracy did not improve from 0.80336\n",
      "168/168 [==============================] - 35s 210ms/step - loss: 0.4988 - accuracy: 0.8324 - val_loss: 0.6637 - val_accuracy: 0.7950\n",
      "Epoch 16/20\n",
      "168/168 [==============================] - ETA: 0s - loss: 0.4788 - accuracy: 0.8349\n",
      "Epoch 00016: val_accuracy did not improve from 0.80336\n",
      "168/168 [==============================] - 40s 238ms/step - loss: 0.4788 - accuracy: 0.8349 - val_loss: 0.6387 - val_accuracy: 0.8017\n",
      "Epoch 17/20\n",
      "168/168 [==============================] - ETA: 0s - loss: 0.4522 - accuracy: 0.8472\n",
      "Epoch 00017: val_accuracy did not improve from 0.80336\n",
      "168/168 [==============================] - 36s 212ms/step - loss: 0.4522 - accuracy: 0.8472 - val_loss: 0.6663 - val_accuracy: 0.7950\n",
      "Epoch 18/20\n",
      "168/168 [==============================] - ETA: 0s - loss: 0.4421 - accuracy: 0.8493\n",
      "Epoch 00018: val_accuracy improved from 0.80336 to 0.80840, saving model to best_model_cat.h5\n",
      "168/168 [==============================] - 32s 191ms/step - loss: 0.4421 - accuracy: 0.8493 - val_loss: 0.6547 - val_accuracy: 0.8084\n",
      "Epoch 19/20\n",
      "168/168 [==============================] - ETA: 0s - loss: 0.4300 - accuracy: 0.8506\n",
      "Epoch 00019: val_accuracy did not improve from 0.80840\n",
      "168/168 [==============================] - 31s 183ms/step - loss: 0.4300 - accuracy: 0.8506 - val_loss: 0.6623 - val_accuracy: 0.8000\n",
      "Epoch 20/20\n",
      "168/168 [==============================] - ETA: 0s - loss: 0.4226 - accuracy: 0.8556\n",
      "Epoch 00020: val_accuracy did not improve from 0.80840\n",
      "168/168 [==============================] - 31s 184ms/step - loss: 0.4226 - accuracy: 0.8556 - val_loss: 0.6442 - val_accuracy: 0.7966\n"
     ]
    }
   ],
   "source": [
    "from keras.models import Sequential\n",
    "from keras.layers import Dense\n",
    "from keras.layers import LSTM\n",
    "from keras.layers.embeddings import Embedding\n",
    "from keras.preprocessing import sequence\n",
    "from keras import layers\n",
    "\n",
    "np.random.seed(123)\n",
    "model_cat = Sequential()\n",
    "num_words =  len(tokenizer.word_index) + 1\n",
    "embedding_size = 32\n",
    "model_cat.add(Embedding(input_dim=num_words, output_dim=embedding_size, input_length=maximum_tokens, name='embedding_layer',\n",
    "                   weights=[embedding_matrix], \n",
    "                           trainable=True))\n",
    "model_cat.add(LSTM(100, dropout=0.5, recurrent_dropout=0.5, return_sequences=True))\n",
    "model_cat.add(layers.GlobalMaxPool1D())\n",
    "model_cat.add(layers.Dense(9, activation='softmax'))\n",
    "model_cat.compile(loss='categorical_crossentropy', optimizer='adam', metrics=['accuracy'])\n",
    "batchsize = 32\n",
    "from keras.callbacks import EarlyStopping\n",
    "from keras.callbacks import ModelCheckpoint\n",
    "es = EarlyStopping(monitor='val_loss', mode='min', verbose=1, patience=20)\n",
    "mc = ModelCheckpoint('best_model_cat.h5', monitor='val_accuracy', mode='max', verbose=1, save_best_only=True)\n",
    "history_cat = model_cat.fit(x_train_cat, y_train_cat, batch_size=batchsize, validation_split=0.1, epochs=20,callbacks=[es, mc])"
   ]
  },
  {
   "cell_type": "code",
   "execution_count": 59,
   "metadata": {},
   "outputs": [
    {
     "name": "stdout",
     "output_type": "stream",
     "text": [
      "186/186 [==============================] - 4s 20ms/step - loss: 0.3676 - accuracy: 0.8756\n",
      "Train set\n",
      "  Loss: 0.368\n",
      "  Accuracy: 0.876\n"
     ]
    }
   ],
   "source": [
    "accr = model_cat.evaluate(x_train_cat,y_train_cat)\n",
    "print('Train set\\n  Loss: {:0.3f}\\n  Accuracy: {:0.3f}'.format(accr[0],accr[1]))"
   ]
  },
  {
   "cell_type": "code",
   "execution_count": 60,
   "metadata": {},
   "outputs": [
    {
     "name": "stdout",
     "output_type": "stream",
     "text": [
      "80/80 [==============================] - 2s 19ms/step - loss: 0.6105 - accuracy: 0.8060\n",
      "Test set\n",
      "  Loss: 0.610\n",
      "  Accuracy: 0.806\n"
     ]
    }
   ],
   "source": [
    "accr = model_cat.evaluate(x_test_cat,y_test_cat)\n",
    "print('Test set\\n  Loss: {:0.3f}\\n  Accuracy: {:0.3f}'.format(accr[0],accr[1]))"
   ]
  },
  {
   "cell_type": "code",
   "execution_count": 68,
   "metadata": {},
   "outputs": [
    {
     "data": {
      "image/png": "[encoded data removed]",
      "text/plain": [
       "<Figure size 432x288 with 1 Axes>"
      ]
     },
     "metadata": {
      "needs_background": "light"
     },
     "output_type": "display_data"
    }
   ],
   "source": [
    "plt.title('Accuracy')\n",
    "plt.plot(history_cat.history['accuracy'], label='train')\n",
    "plt.plot(history_cat.history['val_accuracy'], label='test')\n",
    "plt.legend()\n",
    "plt.show()"
   ]
  },
  {
   "cell_type": "code",
   "execution_count": 69,
   "metadata": {},
   "outputs": [
    {
     "data": {
      "image/png": "[encoded data removed]",
      "text/plain": [
       "<Figure size 432x288 with 1 Axes>"
      ]
     },
     "metadata": {
      "needs_background": "light"
     },
     "output_type": "display_data"
    }
   ],
   "source": [
    "plt.title('Loss')\n",
    "plt.plot(history_cat.history['loss'], label='train')\n",
    "plt.plot(history_cat.history['val_loss'], label='test')\n",
    "plt.legend()\n",
    "plt.show()"
   ]
  },
  {
   "cell_type": "code",
   "execution_count": null,
   "metadata": {},
   "outputs": [],
   "source": [
    "categoryname = Y_cat_df.columns.tolist()\n",
    "categoryname"
   ]
  },
  {
   "cell_type": "code",
   "execution_count": 131,
   "metadata": {},
   "outputs": [
    {
     "name": "stdout",
     "output_type": "stream",
     "text": [
      "Confusion Matrix:\n",
      "[[ 325    9   38   17   15    1    0   23    3]\n",
      " [   2  516    0    4    0    0    0    0    0]\n",
      " [  13    0  516   14   20    2    2   37   15]\n",
      " [   6    4   18 2578    5    6    0    3    2]\n",
      " [  13    2   62   22  609    7    1   30    4]\n",
      " [   0    1    7    4    4  135    0    7    6]\n",
      " [  28    8    4    4    6    1   28    3   10]\n",
      " [  16    4   55    8   11    8    0  129    8]\n",
      " [  10    3   40   12   11    8    9   43  367]]\n",
      "Accuracy: 0.8756311006395153\n"
     ]
    }
   ],
   "source": [
    "# create confusion matrix for train data\n",
    "from sklearn.metrics import confusion_matrix\n",
    "from sklearn import metrics\n",
    "train_prob = model_cat.predict(x_train_cat)\n",
    "train_prob = (train_prob == train_prob.max(axis=1, keepdims=True)).astype(int)\n",
    "\n",
    "print(\"Confusion Matrix:\")\n",
    "conf_mat_train = confusion_matrix(y_true=y_train_cat.argmax(axis=1), y_pred=train_prob.argmax(axis=1))\n",
    "print(conf_mat_train)\n",
    "\n",
    "print(\"Accuracy:\", metrics.accuracy_score(y_train_cat, train_prob))"
   ]
  },
  {
   "cell_type": "code",
   "execution_count": 132,
   "metadata": {},
   "outputs": [
    {
     "name": "stdout",
     "output_type": "stream",
     "text": [
      "Confusion Matrix:\n",
      "[[ 116   14   21   21    4    5    0   12    2]\n",
      " [   4  210    1    7    3    1    0    0    1]\n",
      " [  14    4  194   22   17    3    1   17    6]\n",
      " [   7    9   23 1049    7    4    1    2    3]\n",
      " [  11    2   37    9  234    6    1   10    9]\n",
      " [   1    1    3    4    0   68    0    3    2]\n",
      " [   6    2    3    2    4    3    2    1    5]\n",
      " [  10    2   17   13    3    2    0   52    5]\n",
      " [  12    6   17    9    3    5    5   24  128]]\n",
      "Accuracy: 0.8060463290145269\n"
     ]
    }
   ],
   "source": [
    "# create confusion matrix for train data\n",
    "test_prob = model_cat.predict(x_test_cat)\n",
    "test_prob = (test_prob == test_prob.max(axis=1, keepdims=True)).astype(int)\n",
    "\n",
    "print(\"Confusion Matrix:\")\n",
    "conf_mat_test = confusion_matrix(y_true=y_test_cat.argmax(axis=1), y_pred=test_prob.argmax(axis=1))\n",
    "print(conf_mat_test)\n",
    "\n",
    "print(\"Accuracy:\", metrics.accuracy_score(y_test_cat, test_prob))"
   ]
  },
  {
   "cell_type": "markdown",
   "metadata": {},
   "source": [
    "The model predicts fairly on both train and dataset with accuracy level of 88% and 81% respectively. <br/>\n",
    "By comparing the two confusion matrices, it can be inferred that: <br/>\n",
    "-The model predicts most correctly on *Category 02, Category 04, Category 05* – the categories that have the\n",
    "highest number of samples. <br/>\n",
    "-The model tends to misclassify mostly among *Category 07, 08, 09 (same types of categories - Mouthwash)*. This can be understood that customers do not clearly specify features that differentiate the mouthwash collections, leading to the model finding it hard to assign the correct mouthwash collection."
   ]
  },
  {
   "cell_type": "markdown",
   "metadata": {},
   "source": [
    "#### Predict on Brandwatch\n",
    "Apply the models to assign sentiment and product categories and prepare data for sentiment analysis."
   ]
  },
  {
   "cell_type": "code",
   "execution_count": 114,
   "metadata": {},
   "outputs": [],
   "source": [
    "# extract brandwatch data for BrandA only\n",
    "bw_list = brandwatch.loc[brandwatch['brand']=='BrandA']"
   ]
  },
  {
   "cell_type": "code",
   "execution_count": null,
   "metadata": {},
   "outputs": [],
   "source": [
    "# create independent var\n",
    "X_bw_cat = tokenizer.texts_to_sequences(bw_list[\"reviewtext\"])\n",
    "print(X_bw_cat[0]) # print the first sequence of word indices\n",
    "print(bw_list[\"reviewtext\"].to_list()[0]) "
   ]
  },
  {
   "cell_type": "code",
   "execution_count": 93,
   "metadata": {},
   "outputs": [
    {
     "name": "stdout",
     "output_type": "stream",
     "text": [
      "Shape of data tensor: (50299, 110)\n"
     ]
    }
   ],
   "source": [
    "# Truncate and pad\n",
    "maximum_tokens = 110\n",
    "X_bw_cat = pad_sequences(X_bw_cat, maxlen=maximum_tokens) #110 as explained in previous section\n",
    "print('Shape of data tensor:', X_bw_cat.shape)"
   ]
  },
  {
   "cell_type": "code",
   "execution_count": 94,
   "metadata": {},
   "outputs": [
    {
     "data": {
      "text/plain": [
       "array([5, 2, 0, ..., 3, 3, 5], dtype=int64)"
      ]
     },
     "execution_count": 94,
     "metadata": {},
     "output_type": "execute_result"
    }
   ],
   "source": [
    "pred_cat = np.argmax(model_cat.predict(X_bw_cat),axis=-1)\n",
    "pred_cat"
   ]
  },
  {
   "cell_type": "code",
   "execution_count": null,
   "metadata": {},
   "outputs": [],
   "source": [
    "categoryname"
   ]
  },
  {
   "cell_type": "code",
   "execution_count": 115,
   "metadata": {},
   "outputs": [
    {
     "name": "stderr",
     "output_type": "stream",
     "text": [
      "C:\\Users\\ntkcu\\anaconda3\\lib\\site-packages\\ipykernel_launcher.py:4: SettingWithCopyWarning: \n",
      "A value is trying to be set on a copy of a slice from a DataFrame.\n",
      "Try using .loc[row_indexer,col_indexer] = value instead\n",
      "\n",
      "See the caveats in the documentation: https://pandas.pydata.org/pandas-docs/stable/user_guide/indexing.html#returning-a-view-versus-a-copy\n",
      "  after removing the cwd from sys.path.\n"
     ]
    }
   ],
   "source": [
    "bw_cat =[]\n",
    "for i in range(0,len(pred_cat)):\n",
    "    bw_cat.append(categoryname[pred_cat[i]])\n",
    "bw_list['categoryname']=bw_cat"
   ]
  },
  {
   "cell_type": "code",
   "execution_count": null,
   "metadata": {},
   "outputs": [],
   "source": [
    "bw_list['categoryname'].value_counts()"
   ]
  },
  {
   "cell_type": "markdown",
   "metadata": {},
   "source": [
    "##### Refine datasets to have the final dataset for analysis"
   ]
  },
  {
   "cell_type": "code",
   "execution_count": 98,
   "metadata": {},
   "outputs": [],
   "source": [
    "# bazarvoice dataset\n",
    "bazar=bazar.drop_duplicates(subset=['reviewtext']) # didn't drop duplicates before modelling \n",
    "                                                   # to have more train data"
   ]
  },
  {
   "cell_type": "code",
   "execution_count": 99,
   "metadata": {},
   "outputs": [
    {
     "data": {
      "text/plain": [
       "(7887, 10)"
      ]
     },
     "execution_count": 99,
     "metadata": {},
     "output_type": "execute_result"
    }
   ],
   "source": [
    "bazar.shape"
   ]
  },
  {
   "cell_type": "code",
   "execution_count": 100,
   "metadata": {},
   "outputs": [],
   "source": [
    "bz_cat = pd.DataFrame()\n",
    "bz_cat['brand']=np.nan\n",
    "bz_cat['date'],bz_cat['review'],bz_cat['categoryname'],bz_cat['sentiment'\n",
    "    ] = bazar['lastmodificationtime'],bazar['reviewtext'],bazar['categoryname'],bazar['Sentiment']\n",
    "bz_cat['brand']='BrandA'"
   ]
  },
  {
   "cell_type": "code",
   "execution_count": 101,
   "metadata": {},
   "outputs": [
    {
     "data": {
      "text/plain": [
       "(7887, 5)"
      ]
     },
     "execution_count": 101,
     "metadata": {},
     "output_type": "execute_result"
    }
   ],
   "source": [
    "bz_cat.shape"
   ]
  },
  {
   "cell_type": "code",
   "execution_count": null,
   "metadata": {},
   "outputs": [],
   "source": [
    "bz_cat.head(2)"
   ]
  },
  {
   "cell_type": "markdown",
   "metadata": {},
   "source": [
    "|brand|date|review|categoryname|sentiment|\n",
    "|---|---|---|---|---|\n",
    "BrandA|2020-06-27|We bought this product and absolutely love it...|Category 06|Positive\n",
    "BrandA|2020-06-27|I figured I would weigh in here regarding...|Category 09|Negative"
   ]
  },
  {
   "cell_type": "code",
   "execution_count": 103,
   "metadata": {},
   "outputs": [],
   "source": [
    "bz_cat = bz_cat.sort_values('date')"
   ]
  },
  {
   "cell_type": "code",
   "execution_count": 104,
   "metadata": {},
   "outputs": [],
   "source": [
    "bz_cat.to_csv(\"bazar.csv\")"
   ]
  },
  {
   "cell_type": "code",
   "execution_count": 117,
   "metadata": {},
   "outputs": [],
   "source": [
    "# brandwatch dataset for BrandA only\n",
    "bw_cat_df = pd.DataFrame()\n",
    "bw_cat_df['brand']=np.nan\n",
    "bw_cat_df['date'],bw_cat_df['review']=bw_list['date'],bw_list['reviewtext']\n",
    "bw_cat_df['categoryname'] = bw_list['categoryname']\n",
    "bw_cat_df['sentiment'] = bw_list['sentiment']\n",
    "bw_cat_df['brand']='BrandA'"
   ]
  },
  {
   "cell_type": "code",
   "execution_count": null,
   "metadata": {},
   "outputs": [],
   "source": [
    "bw_cat_df.head(2)"
   ]
  },
  {
   "cell_type": "markdown",
   "metadata": {},
   "source": [
    "|brand|date|review|categoryname|sentiment|\n",
    "|---|---|---|---|---|\n",
    "BrandA|2018-10-29|his aa sponsor is texting him encouraging plat...|Category 06|Neutral\n",
    "BrandA|2020-03-08|aaaa I tried to suppress a sneeze...|Category 03|Neutral"
   ]
  },
  {
   "cell_type": "code",
   "execution_count": 119,
   "metadata": {},
   "outputs": [
    {
     "data": {
      "text/plain": [
       "(50299, 5)"
      ]
     },
     "execution_count": 119,
     "metadata": {},
     "output_type": "execute_result"
    }
   ],
   "source": [
    "bw_cat_df.shape"
   ]
  },
  {
   "cell_type": "code",
   "execution_count": 123,
   "metadata": {},
   "outputs": [
    {
     "data": {
      "text/plain": [
       "(81974, 4)"
      ]
     },
     "execution_count": 123,
     "metadata": {},
     "output_type": "execute_result"
    }
   ],
   "source": [
    "# brandwatch dataset for remaining brands\n",
    "other_list = brandwatch.loc[brandwatch['brand']!='BrandA']\n",
    "other_list = other_list[['brand','date','reviewtext','sentiment']]\n",
    "other_list = other_list.rename(columns={'reviewtext': 'review'})\n",
    "other_list.shape"
   ]
  },
  {
   "cell_type": "code",
   "execution_count": null,
   "metadata": {},
   "outputs": [],
   "source": [
    "other_list.head(2)"
   ]
  },
  {
   "cell_type": "markdown",
   "metadata": {},
   "source": [
    "|brand|date|review|sentiment|\n",
    "|---|---|---|---|\n",
    "BrandX|2020-01-12|abc and cnn s repo ing was definitely skewed t...|Neutral\n",
    "BrandX|20219-07-25|the ability to solve a problem act on it rin...|Neutral"
   ]
  },
  {
   "cell_type": "code",
   "execution_count": 125,
   "metadata": {},
   "outputs": [],
   "source": [
    "# combine for final dataset\n",
    "final_data = pd.concat([bz_cat,bw_cat_df,other_list])\n",
    "final_data = final_data.sort_values('date').reset_index(drop=True)"
   ]
  },
  {
   "cell_type": "code",
   "execution_count": 126,
   "metadata": {},
   "outputs": [
    {
     "data": {
      "text/plain": [
       "(140160, 5)"
      ]
     },
     "execution_count": 126,
     "metadata": {},
     "output_type": "execute_result"
    }
   ],
   "source": [
    "final_data.shape"
   ]
  },
  {
   "cell_type": "code",
   "execution_count": null,
   "metadata": {},
   "outputs": [],
   "source": [
    "final_data.head(2)"
   ]
  },
  {
   "cell_type": "markdown",
   "metadata": {},
   "source": [
    "|brand|date|review|categoryname|sentiment|\n",
    "|---|---|---|---|---|\n",
    "BrandA|2018-01-01|gargle with branda|Category 01|Neutral\n",
    "BrandA|2018-01-01|lol the guy swigs it from his local cvs...|Category 04|Neutral"
   ]
  },
  {
   "cell_type": "code",
   "execution_count": 129,
   "metadata": {},
   "outputs": [
    {
     "data": {
      "text/plain": [
       "Neutral     127488\n",
       "Positive     10866\n",
       "Negative      1806\n",
       "Name: sentiment, dtype: int64"
      ]
     },
     "execution_count": 129,
     "metadata": {},
     "output_type": "execute_result"
    }
   ],
   "source": [
    "final_data['sentiment'].value_counts()"
   ]
  },
  {
   "cell_type": "code",
   "execution_count": 130,
   "metadata": {},
   "outputs": [],
   "source": [
    "# print to file\n",
    "final_data.to_csv(\"final_data.csv\")"
   ]
  },
  {
   "cell_type": "markdown",
   "metadata": {},
   "source": [
    "### Sentiment Analysis on Topics\n",
    "The team performed further analysis to find out the features in BrandA and other brands that are discussed most frequently in reviews for better insights, based on which the team can give strategic recommendations. LDA model was applied in this analysis. The team only used Positive and Negative reviews for this analysis. We will separate positive and negative reviews to extract topics that receive good feedbacks and those with complaints."
   ]
  },
  {
   "cell_type": "code",
   "execution_count": 23,
   "metadata": {},
   "outputs": [
    {
     "data": {
      "text/plain": [
       "Neutral     127488\n",
       "Positive     10866\n",
       "Negative      1806\n",
       "Name: sentiment, dtype: int64"
      ]
     },
     "execution_count": 23,
     "metadata": {},
     "output_type": "execute_result"
    }
   ],
   "source": [
    "final_data['sentiment'].value_counts()"
   ]
  },
  {
   "cell_type": "code",
   "execution_count": 25,
   "metadata": {},
   "outputs": [],
   "source": [
    "selected_review = final_data.loc[(final_data['sentiment'] == 'Positive') | (final_data['sentiment'] == 'Negative')]"
   ]
  },
  {
   "cell_type": "markdown",
   "metadata": {},
   "source": [
    "#### Clean text data\n",
    "We performed data cleaning again to prepare for LDA modelling."
   ]
  },
  {
   "cell_type": "code",
   "execution_count": 26,
   "metadata": {},
   "outputs": [
    {
     "name": "stderr",
     "output_type": "stream",
     "text": [
      "C:\\Users\\ntkcu\\anaconda3\\lib\\site-packages\\ipykernel_launcher.py:2: SettingWithCopyWarning: \n",
      "A value is trying to be set on a copy of a slice from a DataFrame.\n",
      "Try using .loc[row_indexer,col_indexer] = value instead\n",
      "\n",
      "See the caveats in the documentation: https://pandas.pydata.org/pandas-docs/stable/user_guide/indexing.html#returning-a-view-versus-a-copy\n",
      "  \n",
      "C:\\Users\\ntkcu\\anaconda3\\lib\\site-packages\\ipykernel_launcher.py:4: SettingWithCopyWarning: \n",
      "A value is trying to be set on a copy of a slice from a DataFrame.\n",
      "Try using .loc[row_indexer,col_indexer] = value instead\n",
      "\n",
      "See the caveats in the documentation: https://pandas.pydata.org/pandas-docs/stable/user_guide/indexing.html#returning-a-view-versus-a-copy\n",
      "  after removing the cwd from sys.path.\n",
      "C:\\Users\\ntkcu\\anaconda3\\lib\\site-packages\\ipykernel_launcher.py:6: SettingWithCopyWarning: \n",
      "A value is trying to be set on a copy of a slice from a DataFrame.\n",
      "Try using .loc[row_indexer,col_indexer] = value instead\n",
      "\n",
      "See the caveats in the documentation: https://pandas.pydata.org/pandas-docs/stable/user_guide/indexing.html#returning-a-view-versus-a-copy\n",
      "  \n"
     ]
    }
   ],
   "source": [
    "# lowercase 'reviewtext' - prepare for stopwords step\n",
    "selected_review[\"review_lower\"] = selected_review[\"review\"].str.lower()\n",
    "# change '0' to 'zero' before we remove all numbers; make the change only if '0' is surrounded by spaces\n",
    "selected_review[\"review_clean\"] = selected_review[\"review_lower\"].apply(lambda x: re.sub('\\s+[0]\\s+',' zero ',str(x)))\n",
    "# remove all characters except for letters\n",
    "selected_review[\"review_clean\"] = selected_review[\"review_clean\"].apply(lambda x: re.sub('[^a-zA-Z]',' ',x))"
   ]
  },
  {
   "cell_type": "markdown",
   "metadata": {},
   "source": [
    "Because LDA will extract words from the data, based on which we can learn about popular product features, the team tried to remove as many unuseful words as possible. For example, brand names, 'use', 'product' are used a lot but are of no use to interpretation and thus, should be removed. Or, words like 'great','good' may be useful for sentiment analysis, but not useful for topic analysis cos' the team already separated positive and negative reviews, and thus, will be removed. <br/>\n",
    "To remove unuseful words that appear a lot in the datasets, we can use counter function to check word count. However, we chose to create a word cloud to better visualization. We based on the word cloud to add more unuseful words to the stop words list."
   ]
  },
  {
   "cell_type": "code",
   "execution_count": null,
   "metadata": {},
   "outputs": [],
   "source": [
    "# download the stopwords dictionary\n",
    "from nltk.corpus import stopwords\n",
    "nltk.download('stopwords')\n",
    "\n",
    "# save the list of stopwords in stop_words\n",
    "sw = stopwords.words('english')\n",
    "\n",
    "# add extra words to the stopwords dictionary #after checking the list of stopwords\n",
    "new_stopwords = ['guys','could', 'can t',\"can't\",'dont',\n",
    "                 'tbh','b','c','e','f','g','h','j','k','l','n','p','q','r','u','v','w','x','z','da','lol',\n",
    "                 'brand name','product','use','thi','one','think','make','year','try','great','well','good',\n",
    "                 'love','work','really','much','thank','say','like','wow','ok','yes','thanks'] #to be added\n",
    "sw.extend(new_stopwords)\n",
    "\n",
    "# remove the words that exist in the stopwords dictionary from tweets\n",
    "selected_review[\"review_clean_no_stop_words\"] = selected_review[\"review_clean\"].apply(lambda words: ' '.join(word.lower() for word in words.split() if word not in sw))\n",
    "selected_review.head(2)"
   ]
  },
  {
   "cell_type": "markdown",
   "metadata": {},
   "source": [
    "##### Lemmatization while including POS tagging"
   ]
  },
  {
   "cell_type": "code",
   "execution_count": null,
   "metadata": {},
   "outputs": [],
   "source": [
    "# code taken from here: https://stackoverflow.com/questions/51267166/lemmatization-pandas-python\n",
    "from nltk.corpus import wordnet\n",
    "from nltk.stem import WordNetLemmatizer \n",
    "\n",
    "lemmatizer = nltk.stem.WordNetLemmatizer()\n",
    "\n",
    "def nltk_tag_to_wordnet_tag(nltk_tag):\n",
    "    if nltk_tag.startswith('J'):\n",
    "        return wordnet.ADJ\n",
    "    elif nltk_tag.startswith('V'):\n",
    "        return wordnet.VERB\n",
    "    elif nltk_tag.startswith('N'):\n",
    "        return wordnet.NOUN\n",
    "    elif nltk_tag.startswith('R'):\n",
    "        return wordnet.ADV\n",
    "    else:\n",
    "        return None\n",
    "\n",
    "def lemmatize_sentence(sentence):\n",
    "    #tokenize the sentence and find the POS tag for each token\n",
    "    nltk_tagged = nltk.pos_tag(nltk.word_tokenize(sentence))\n",
    "    #tuple of (token, wordnet_tag)\n",
    "    wordnet_tagged = map(lambda x: (x[0], nltk_tag_to_wordnet_tag(x[1])), nltk_tagged)\n",
    "    lemmatized_sentence = []\n",
    "    for word, tag in wordnet_tagged:\n",
    "        if tag is None:\n",
    "            #if there is no available tag, append the token as is\n",
    "            lemmatized_sentence.append(word)\n",
    "        else:\n",
    "            #else use the tag to lemmatize the token\n",
    "            lemmatized_sentence.append(lemmatizer.lemmatize(word, tag))\n",
    "    return \" \".join(lemmatized_sentence)\n",
    "\n",
    "\n",
    "\n",
    "# Lemmatizing using POS (Part of Speech) tagging\n",
    "selected_review['lemmatized_review'] = selected_review['review_clean_no_stop_words'].apply(lambda x: lemmatize_sentence(x))\n",
    "selected_review.head(2)"
   ]
  },
  {
   "cell_type": "code",
   "execution_count": null,
   "metadata": {},
   "outputs": [],
   "source": [
    "# Remove stop word one more time - after lemmatization, many words are lemmatized to stop words (e.g. use)\n",
    "selected_review[\"lemmatized_review\"] = selected_review['lemmatized_review'].apply(lambda words: ' '.join(word.lower() for word in words.split() if word not in sw))\n",
    "selected_review.head(2)"
   ]
  },
  {
   "cell_type": "code",
   "execution_count": 81,
   "metadata": {},
   "outputs": [
    {
     "data": {
      "image/png": "[encoded data removed]",
      "text/plain": [
       "<Figure size 720x720 with 1 Axes>"
      ]
     },
     "metadata": {
      "needs_background": "light"
     },
     "output_type": "display_data"
    }
   ],
   "source": [
    "#!pip install wordcloud\n",
    "from wordcloud import WordCloud\n",
    "import matplotlib.pyplot as plt\n",
    "\n",
    "text_wc = \" \".join(item for item in selected_review['lemmatized_review'])\n",
    "wordcloud = WordCloud(background_color=\"white\").generate(text_wc)\n",
    "# show the wordcloud using matplotlib; check more here: https://matplotlib.org/gallery/images_contours_and_fields/interpolation_methods.html\n",
    "plt.figure(figsize = (10, 10))\n",
    "plt.imshow(wordcloud, interpolation=\"bilinear\")\n",
    "plt.axis(\"off\")\n",
    "plt.show() "
   ]
  },
  {
   "cell_type": "markdown",
   "metadata": {},
   "source": [
    "There are 21 brands in total in the datasets, but some brands have very few data. Thus, the team filtered and analyzed the top 5 popular brands only: the main brand - BrandA and 4 other brands. <br/>\n",
    "The team analyzed both topics with positive feedbacks and complaints. Concerning other brands, only topics with positive feedbacks were analyzed for comparison. Recommendations were given based on the analysis results. <br/>\n",
    "Within the scope of this notebook, I will demonstrate the analysis for topics with positive reviews for 1 brand - BrandA only. We did the same for negative reviews of Brand A and for analysis on other brands."
   ]
  },
  {
   "cell_type": "code",
   "execution_count": 82,
   "metadata": {},
   "outputs": [],
   "source": [
    "# keep only top 5 brands. top 5 brands have more than 300 reviews\n",
    "from collections import Counter\n",
    "\n",
    "counts = Counter(selected_review.brand)\n",
    "popular_brand = selected_review[selected_review.brand.isin([key for key in counts if counts[key] > 300])]"
   ]
  },
  {
   "cell_type": "code",
   "execution_count": 83,
   "metadata": {},
   "outputs": [
    {
     "data": {
      "text/plain": [
       "(8874, 9)"
      ]
     },
     "execution_count": 83,
     "metadata": {},
     "output_type": "execute_result"
    }
   ],
   "source": [
    "BrandA = popular_brand.loc[popular_brand[\"brand\"] == \"BrandA\"]\n",
    "BrandA.shape"
   ]
  },
  {
   "cell_type": "markdown",
   "metadata": {},
   "source": [
    "##### Separate Positive and Negative Review"
   ]
  },
  {
   "cell_type": "code",
   "execution_count": 84,
   "metadata": {},
   "outputs": [],
   "source": [
    "BrandA_Pos_Review = BrandA.loc[BrandA['sentiment'] == 'Positive']\n",
    "BrandA_Neg_Review = BrandA.loc[BrandA['sentiment'] == 'Negative']"
   ]
  },
  {
   "cell_type": "code",
   "execution_count": 85,
   "metadata": {},
   "outputs": [
    {
     "name": "stdout",
     "output_type": "stream",
     "text": [
      "<class 'pandas.core.frame.DataFrame'>\n",
      "Int64Index: 7427 entries, 85 to 140159\n",
      "Data columns (total 9 columns):\n",
      " #   Column                      Non-Null Count  Dtype \n",
      "---  ------                      --------------  ----- \n",
      " 0   brand                       7427 non-null   object\n",
      " 1   date                        7427 non-null   object\n",
      " 2   review                      7427 non-null   object\n",
      " 3   categoryname                7427 non-null   object\n",
      " 4   sentiment                   7427 non-null   object\n",
      " 5   review_lower                7427 non-null   object\n",
      " 6   review_clean                7427 non-null   object\n",
      " 7   review_clean_no_stop_words  7427 non-null   object\n",
      " 8   lemmatized_review           7427 non-null   object\n",
      "dtypes: object(9)\n",
      "memory usage: 580.2+ KB\n"
     ]
    }
   ],
   "source": [
    "BrandA_Pos_Review.info()"
   ]
  },
  {
   "cell_type": "markdown",
   "metadata": {},
   "source": [
    "##### Create Word matrix"
   ]
  },
  {
   "cell_type": "code",
   "execution_count": 86,
   "metadata": {},
   "outputs": [],
   "source": [
    "from sklearn.feature_extraction.text import CountVectorizer\n",
    "\n",
    "BrandA_Posi_count_vect = CountVectorizer(max_df=0.8, min_df=2, stop_words='english')\n",
    "BrandA_Nega_count_vect = CountVectorizer(max_df=0.8, min_df=2, stop_words='english')\n",
    "\n",
    "BrandA_Pos_dtm = BrandA_Posi_count_vect.fit_transform(BrandA_Pos_Review[\"lemmatized_review\"].values.astype('U'))\n",
    "BrandA_Neg_dtm = BrandA_Nega_count_vect.fit_transform(BrandA_Neg_Review[\"lemmatized_review\"].values.astype('U'))"
   ]
  },
  {
   "cell_type": "code",
   "execution_count": 87,
   "metadata": {},
   "outputs": [
    {
     "data": {
      "text/plain": [
       "<7427x2731 sparse matrix of type '<class 'numpy.int64'>'\n",
       "\twith 77303 stored elements in Compressed Sparse Row format>"
      ]
     },
     "execution_count": 87,
     "metadata": {},
     "output_type": "execute_result"
    }
   ],
   "source": [
    "BrandA_Pos_dtm"
   ]
  },
  {
   "cell_type": "markdown",
   "metadata": {},
   "source": [
    "##### LDA Model for Positive Review\n",
    "[Ref Link](https://stackabuse.com/python-for-nlp-topic-modeling/)"
   ]
  },
  {
   "cell_type": "code",
   "execution_count": 90,
   "metadata": {},
   "outputs": [
    {
     "data": {
      "text/plain": [
       "LatentDirichletAllocation(n_components=7, random_state=42)"
      ]
     },
     "execution_count": 90,
     "metadata": {},
     "output_type": "execute_result"
    }
   ],
   "source": [
    "from sklearn.decomposition import LatentDirichletAllocation\n",
    "\n",
    "BrandA_Pos_LDA = LatentDirichletAllocation(n_components=7, random_state=42)\n",
    "BrandA_Pos_LDA.fit(BrandA_Pos_dtm)"
   ]
  },
  {
   "cell_type": "code",
   "execution_count": 91,
   "metadata": {},
   "outputs": [
    {
     "name": "stdout",
     "output_type": "stream",
     "text": [
      "Top 10 words for BrandA Positive topic #1:\n",
      "['felt', 'refresh', 'feeling', 'breath', 'taste', 'leave', 'feel', 'fresh', 'clean', 'mouth']\n",
      "\n",
      "\n",
      "Top 10 words for BrandA Positive topic #2:\n",
      "['convenient', 'freshen', 'liquid', 'swallow', 'chew', 'easy', 'mint', 'ready', 'breath', 'tab']\n",
      "\n",
      "\n",
      "Top 10 words for BrandA Positive topic #3:\n",
      "['buy', 'dental', 'gum', 'teeth', 'discontinue', 'mint', 'bring', 'store', 'best', 'floss']\n",
      "\n",
      "\n",
      "Top 10 words for BrandA Positive topic #4:\n",
      "['rinse', 'therapy', 'flavor', 'sensitive', 'kid', 'care', 'help', 'teeth', 'mouthwash', 'gum']\n",
      "\n",
      "\n",
      "Top 10 words for BrandA Positive topic #5:\n",
      "['sensitive', 'teeth', 'sensitivity', 'mouth', 'flavor', 'zero', 'burn', 'taste', 'mouthwash', 'alcohol']\n",
      "\n",
      "\n",
      "Top 10 words for BrandA Positive topic #6:\n",
      "['night', 'recommend', 'reset', 'morning', 'nightly', 'definitely', 'mouthwash', 'teeth', 'feel', 'mouth']\n",
      "\n",
      "\n",
      "Top 10 words for BrandA Positive topic #7:\n",
      "['little', 'people', 'freshness', 'bottle', 'flavor', 'long', 'water', 'teeth', 'time', 'taste']\n",
      "\n",
      "\n"
     ]
    }
   ],
   "source": [
    "for i,topic in enumerate(BrandA_Pos_LDA.components_):\n",
    "    print(f'Top 10 words for BrandA Positive topic #{i+1}:')\n",
    "    print([BrandA_Posi_count_vect.get_feature_names()[i] for i in topic.argsort()[-10:]])\n",
    "    print('\\n')"
   ]
  },
  {
   "cell_type": "markdown",
   "metadata": {},
   "source": [
    "##### Positive Topic Intepretation:\n",
    "* Topic 1: Clean and Freshness\n",
    "* Topic 2: Chewability/Swallowability\n",
    "* Topic 3: Convenience to store and bring\n",
    "* Topic 4: Kid-friendly\n",
    "* Topic 5: No alcohol\n",
    "* Topic 6: Routine with * *(a specific product category with routine)*\n",
    "* Topic 7: Product taste"
   ]
  },
  {
   "cell_type": "markdown",
   "metadata": {},
   "source": [
    "#### Assign topic for each review"
   ]
  },
  {
   "cell_type": "code",
   "execution_count": 92,
   "metadata": {},
   "outputs": [
    {
     "data": {
      "text/plain": [
       "(7427, 7)"
      ]
     },
     "execution_count": 92,
     "metadata": {},
     "output_type": "execute_result"
    }
   ],
   "source": [
    "BrandA_Pos_topic_values = BrandA_Pos_LDA.transform(BrandA_Pos_dtm)\n",
    "BrandA_Pos_topic_values.shape"
   ]
  },
  {
   "cell_type": "code",
   "execution_count": 93,
   "metadata": {},
   "outputs": [
    {
     "name": "stderr",
     "output_type": "stream",
     "text": [
      "C:\\Users\\ntkcu\\anaconda3\\lib\\site-packages\\ipykernel_launcher.py:1: SettingWithCopyWarning: \n",
      "A value is trying to be set on a copy of a slice from a DataFrame.\n",
      "Try using .loc[row_indexer,col_indexer] = value instead\n",
      "\n",
      "See the caveats in the documentation: https://pandas.pydata.org/pandas-docs/stable/user_guide/indexing.html#returning-a-view-versus-a-copy\n",
      "  \"\"\"Entry point for launching an IPython kernel.\n"
     ]
    }
   ],
   "source": [
    "BrandA_Pos_Review['topic'] = BrandA_Pos_topic_values.argmax(axis=1)"
   ]
  },
  {
   "cell_type": "code",
   "execution_count": null,
   "metadata": {},
   "outputs": [],
   "source": [
    "BrandA_Pos_Review.head(2)"
   ]
  },
  {
   "cell_type": "markdown",
   "metadata": {},
   "source": [
    "#### Summarization"
   ]
  },
  {
   "cell_type": "code",
   "execution_count": 95,
   "metadata": {},
   "outputs": [
    {
     "data": {
      "text/plain": [
       "0    1815\n",
       "1    1430\n",
       "4    1106\n",
       "2     903\n",
       "5     872\n",
       "3     846\n",
       "6     455\n",
       "Name: topic, dtype: int64"
      ]
     },
     "execution_count": 95,
     "metadata": {},
     "output_type": "execute_result"
    }
   ],
   "source": [
    "BrandA_Pos_Review['topic'].value_counts()"
   ]
  },
  {
   "cell_type": "code",
   "execution_count": 97,
   "metadata": {},
   "outputs": [
    {
     "data": {
      "text/plain": [
       "[Text(0, 0, 'Clean&Fresh'),\n",
       " Text(0, 0, 'Chewing'),\n",
       " Text(0, 0, 'Store&Bring'),\n",
       " Text(0, 0, 'Kid-friendly'),\n",
       " Text(0, 0, 'No alcohol'),\n",
       " Text(0, 0, 'Routine'),\n",
       " Text(0, 0, 'Taste')]"
      ]
     },
     "execution_count": 97,
     "metadata": {},
     "output_type": "execute_result"
    },
    {
     "data": {
      "image/png": "[encoded data removed]",
      "text/plain": [
       "<Figure size 432x288 with 1 Axes>"
      ]
     },
     "metadata": {
      "needs_background": "light"
     },
     "output_type": "display_data"
    }
   ],
   "source": [
    "pos_chart = BrandA_Pos_Review['topic'].value_counts().sort_index().plot(kind='bar')\n",
    "pos_chart.set_title('BrandA Positive Topics')\n",
    "pos_chart.set_xlabel('Topics')\n",
    "pos_chart.set_ylabel('Reviews')\n",
    "\n",
    "pos_chart.set_xticks(range(0,7))\n",
    "topics = ['Clean&Fresh','Chewing','Store&Bring','Kid-friendly','No alcohol','Routine','Taste']\n",
    "pos_chart.set_xticklabels(topics,rotation=45)"
   ]
  },
  {
   "cell_type": "markdown",
   "metadata": {},
   "source": [
    "### LIMITATION\n",
    "Despite great efforts in performing this analysis, the team still encountered with several limitations.\n",
    "- The amount of data used in analysis into top product features is limited, since most texts in Brandwatch dataset are assigned as neutral (nearly 90%). As part of this analysis, only 12,000 positive and negative reviews in 3 selected consecutive years were used, which means that there is a risk that the team could not cover several important features that the data could not capture.\n",
    "- The assignment of product categories to BrandA texts in Brandwatch beas some limitation since the team could not check the accuracy of category prediction. Due to limited knowledge of all the covered product categories, the team found it difficult to correctly assign categories manually by ourselves; therefore, the team had to completely relied on the model for this assignment."
   ]
  }
 ],
 "metadata": {
  "kernelspec": {
   "display_name": "Python 3",
   "language": "python",
   "name": "python3"
  },
  "language_info": {
   "codemirror_mode": {
    "name": "ipython",
    "version": 3
   },
   "file_extension": ".py",
   "mimetype": "text/x-python",
   "name": "python",
   "nbconvert_exporter": "python",
   "pygments_lexer": "ipython3",
   "version": "3.7.6"
  }
 },
 "nbformat": 4,
 "nbformat_minor": 4
}
